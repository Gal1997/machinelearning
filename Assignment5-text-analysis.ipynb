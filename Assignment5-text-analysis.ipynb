{
 "cells": [
  {
   "cell_type": "markdown",
   "metadata": {},
   "source": [
    "# Assignment 5 - Text Analysis\n",
    "An explanation this assignment could be found in the .pdf explanation document"
   ]
  },
  {
   "cell_type": "markdown",
   "metadata": {},
   "source": [
    "\n",
    "## Materials to review for this assignment\n",
    "<h4>From Moodle:</h4> \n",
    "<h5><u>Review the notebooks regarding the following python topics</u>:</h5>\n",
    "<div class=\"alert alert-info\">\n",
    "&#x2714; <b>Working with strings</b> (tutorial notebook)<br/>\n",
    "&#x2714; <b>Text Analysis</b> (tutorial notebook)<br/>\n",
    "&#x2714; <b>Hebrew text analysis tools (tokenizer, wordnet)</b> (moodle example)<br/>\n",
    "&#x2714; <b>(brief review) All previous notebooks</b><br/>\n",
    "</div> \n",
    "<h5><u>Review the presentations regarding the following topics</u>:</h5>\n",
    "<div class=\"alert alert-info\">\n",
    "&#x2714; <b>Text Analysis</b> (lecture presentation)<br/>\n",
    "&#x2714; <b>(brief review) All other presentations</b><br/>\n",
    "</div>"
   ]
  },
  {
   "cell_type": "markdown",
   "metadata": {},
   "source": [
    "## Preceding Step - import modules (packages)\n",
    "This step is necessary in order to use external modules (packages). <br/>"
   ]
  },
  {
   "cell_type": "code",
   "execution_count": 1,
   "metadata": {},
   "outputs": [],
   "source": [
    "# --------------------------------------\n",
    "import pandas as pd\n",
    "import numpy as np\n",
    "# --------------------------------------\n",
    "\n",
    "\n",
    "# --------------------------------------\n",
    "# ------------- visualizations:\n",
    "import seaborn as sns\n",
    "import matplotlib.pyplot as plt\n",
    "from matplotlib.colors import ListedColormap\n",
    "# --------------------------------------\n",
    "\n",
    "\n",
    "# ---------------------------------------\n",
    "import sklearn\n",
    "from sklearn import preprocessing, metrics, pipeline, model_selection, feature_extraction\n",
    "from sklearn import naive_bayes, linear_model, svm, neural_network, neighbors, tree\n",
    "from sklearn import decomposition, cluster\n",
    "\n",
    "from sklearn.model_selection import train_test_split, cross_val_score, GridSearchCV\n",
    "from sklearn.pipeline import Pipeline\n",
    "from sklearn.metrics import accuracy_score, confusion_matrix\n",
    "from sklearn.metrics import precision_score, recall_score, f1_score\n",
    "from sklearn.metrics import mean_squared_error, r2_score, silhouette_score\n",
    "from sklearn.preprocessing import MinMaxScaler, StandardScaler, LabelEncoder\n",
    "\n",
    "from sklearn.svm import LinearSVC\n",
    "from sklearn.neural_network import MLPClassifier\n",
    "from sklearn.linear_model import Perceptron, SGDClassifier, LogisticRegression\n",
    "from sklearn.decomposition import PCA\n",
    "from sklearn.cluster import KMeans\n",
    "from sklearn.naive_bayes import MultinomialNB, GaussianNB\n",
    "from sklearn.neighbors import KNeighborsClassifier\n",
    "from sklearn.tree import DecisionTreeClassifier\n",
    "# ---------------------------------------\n",
    "\n",
    "\n",
    "# ----------------- output and visualizations:\n",
    "import warnings\n",
    "from sklearn.exceptions import ConvergenceWarning\n",
    "\n",
    "warnings.simplefilter(\"ignore\")\n",
    "warnings.simplefilter(action='ignore', category=FutureWarning)\n",
    "warnings.simplefilter(\"ignore\", category=ConvergenceWarning)\n",
    "# show several prints in one cell. This will allow us to condence every trick in one cell.\n",
    "# from IPython.core.interactiveshell import InteractiveShell\n",
    "# InteractiveShell.ast_node_interactivity = \"all\"\n",
    "pd.pandas.set_option('display.max_columns', None)\n",
    "pd.set_option('display.float_format', lambda x: '%.3f' % x)\n",
    "# ---------------------------------------\n"
   ]
  },
  {
   "cell_type": "markdown",
   "metadata": {},
   "source": [
    "### Text analysis and String manipulation imports:"
   ]
  },
  {
   "cell_type": "code",
   "execution_count": 2,
   "metadata": {},
   "outputs": [],
   "source": [
    "# --------------------------------------\n",
    "# --------- Text analysis and Hebrew text analysis imports:\n",
    "# vectorizers:\n",
    "from sklearn.feature_extraction import text\n",
    "from sklearn.feature_extraction.text import CountVectorizer, TfidfVectorizer\n",
    "\n",
    "# regular expressions:\n",
    "import re\n",
    "# --------------------------------------"
   ]
  },
  {
   "cell_type": "markdown",
   "metadata": {},
   "source": [
    "### Reading input files\n",
    "Reading input files for train annotated corpus (raw text data) corpus and for the test corpus"
   ]
  },
  {
   "cell_type": "code",
   "execution_count": 3,
   "metadata": {},
   "outputs": [],
   "source": [
    "train_filename = 'annotated_corpus_for_train.csv'\n",
    "test_filename  = 'corpus_for_test.csv'\n",
    "df_train = pd.read_csv(train_filename, index_col=None, encoding='utf-8')\n",
    "df_test  = pd.read_csv(test_filename, index_col=None, encoding='utf-8')"
   ]
  },
  {
   "cell_type": "code",
   "execution_count": 4,
   "metadata": {},
   "outputs": [
    {
     "data": {
      "text/plain": [
       "(323, 2)"
      ]
     },
     "execution_count": 4,
     "metadata": {},
     "output_type": "execute_result"
    }
   ],
   "source": [
    "from sklearn.metrics import precision_score, recall_score, accuracy_score, f1_score, average_precision_score\n",
    "from sklearn.decomposition import TruncatedSVD  # dimensionality reduction for sparse matrices (better than PCA)\n",
    "from sklearn.mixture import BayesianGaussianMixture, GaussianMixture\n",
    "from sklearn.metrics import roc_curve, roc_auc_score, precision_recall_curve, average_precision_score\n",
    "\n",
    "\n",
    "df_train.head(3)\n",
    "df_train.shape\n",
    "\n",
    "df_test.head(3)\n",
    "df_test.shape\n"
   ]
  },
  {
   "cell_type": "code",
   "execution_count": null,
   "metadata": {},
   "outputs": [],
   "source": []
  },
  {
   "cell_type": "markdown",
   "metadata": {},
   "source": [
    "### Your implementation:\n",
    "Write your code solution in the following code-cells"
   ]
  },
  {
   "cell_type": "code",
   "execution_count": 5,
   "metadata": {},
   "outputs": [
    {
     "data": {
      "text/plain": [
       "<AxesSubplot:xlabel='gender', ylabel='Count'>"
      ]
     },
     "execution_count": 5,
     "metadata": {},
     "output_type": "execute_result"
    },
    {
     "data": {
      "image/png": "[encoded data removed]",
      "text/plain": [
       "<Figure size 432x288 with 1 Axes>"
      ]
     },
     "metadata": {
      "needs_background": "light"
     },
     "output_type": "display_data"
    }
   ],
   "source": [
    "# Here we see our data is not well balanced , there are more males than females\n",
    "sns.histplot(data=df_train,x=\"gender\")"
   ]
  },
  {
   "cell_type": "code",
   "execution_count": 6,
   "metadata": {},
   "outputs": [],
   "source": [
    "# Here we convert (f,m) to (1,0)\n",
    "df_train['gender'] = df_train.apply(lambda row: 0 if row.gender == 'm' else 1, axis=1)\n"
   ]
  },
  {
   "cell_type": "code",
   "execution_count": 7,
   "metadata": {},
   "outputs": [],
   "source": [
    "# Here we get some string as input , we clean it to get better results , and then we return it tokenized (split)\n",
    "def my_tokenizer(txt):\n",
    "    # remove numbers\n",
    "    result = re.sub(r'\\d', ' ', txt)\n",
    "    # remove quatation marks\n",
    "    result = re.sub(r'\"', ' ', result)\n",
    "    # remove dots\n",
    "    result.replace(\".\", \" \")\n",
    "    # remove one letter words\n",
    "    result = re.sub(r'\\s\\w\\s', ' ', result)\n",
    "    # remove redudant whitespace\n",
    "    result = re.sub(r'\\s+', ' ', result, flags=re.I)\n",
    "    # remove 'ו' from the beginning of a word\n",
    "    result = re.sub(r'\\sו', ' ', result)\n",
    "    # replace non-alphanumeric characters with whitespace\n",
    "    result = re.sub(r'\\W', ' ', result)\n",
    "    return result.split()\n"
   ]
  },
  {
   "cell_type": "code",
   "execution_count": 8,
   "metadata": {},
   "outputs": [],
   "source": [
    "# Split data to train and validation\n",
    "X_train, X_val, y_train, y_val = train_test_split(df_train.story, df_train.gender, test_size=0.33, random_state=42)\n"
   ]
  },
  {
   "cell_type": "code",
   "execution_count": 9,
   "metadata": {},
   "outputs": [],
   "source": [
    "class MyClassifier(sklearn.base.ClassifierMixin):\n",
    "    # Used for dimensionality reduction.\n",
    "    # First we do dim and only after we use the classifier\n",
    "    def __init__(self, k):\n",
    "        super().__init__()\n",
    "        self.k = k\n",
    "        self.dim_reduc_model = TruncatedSVD(k)\n",
    "        self.classifier = GaussianNB(priors=[0.75, 0.25])\n",
    "\n",
    "    def fit(self, X, y):\n",
    "        self.dim_reduc_model.fit(X, y)\n",
    "        X_transformed = self.dim_reduc_model.transform(X)\n",
    "        self.classifier.fit(X_transformed, y)\n",
    "\n",
    "    def predict(self, X):\n",
    "        X_transformed = self.dim_reduc_model.transform(X)\n",
    "        y_pred = self.classifier.predict(X_transformed)\n",
    "        return y_pred\n",
    "\n",
    "    def predict_proba(self, X):\n",
    "        X_transformed = self.dim_reduc_model.transform(X)\n",
    "        y_prob = self.classifier.predict_proba(X_transformed)\n",
    "        return y_prob\n"
   ]
  },
  {
   "cell_type": "code",
   "execution_count": 10,
   "metadata": {},
   "outputs": [],
   "source": [
    "\n",
    "def find_best_k(Ks):\n",
    "    avg_f1_weighted_train_vec = []\n",
    "    avg_f1_weighted_val_vec = []\n",
    "    avg_f1_macro_train_vec = []\n",
    "    avg_f1_macro_val_vec = []\n",
    "    y_prob_train_vec = []\n",
    "    y_prob_val_vec = []\n",
    "\n",
    "    # Trying all the k's to see which one is optimal\n",
    "    for k in Ks:\n",
    "        my_classifier_k = MyClassifier(k)\n",
    "        print(\"k=\" + str(k))\n",
    "        cf = Pipeline([('vect', TfidfVectorizer(tokenizer=my_tokenizer)), ('classifier', my_classifier_k)])\n",
    "        cf.fit(X_train, y_train)\n",
    "        y_pred_val = cf.predict(X_val)\n",
    "        y_pred_train = cf.predict(X_train)\n",
    "        y_prob_train = cf.predict_proba(X_train)[:, 1]\n",
    "        y_prob_val = cf.predict_proba(X_val)[:, 1]\n",
    "\n",
    "        acc_train = accuracy_score(y_train, y_pred_train)\n",
    "        prec_train = precision_score(y_train, y_pred_train)\n",
    "        recall_train = recall_score(y_train, y_pred_train)\n",
    "        f1_train = f1_score(y_train, y_pred_train)\n",
    "        avg_f1_macro_train = f1_score(y_train, y_pred_train, average=\"macro\")\n",
    "        avg_f1_weighted_train = f1_score(y_train, y_pred_train, average=\"weighted\")\n",
    "        acc_val = accuracy_score(y_train, y_pred_train)\n",
    "        prec_val = precision_score(y_val, y_pred_val)\n",
    "        recall_val = recall_score(y_val, y_pred_val)\n",
    "        avg_f1_macro_val = f1_score(y_val, y_pred_val, average=\"macro\")\n",
    "        avg_f1_weighted_val = f1_score(y_val, y_pred_val, average=\"weighted\")\n",
    "        print(\"train: acc: {}, precision: {}, recall: {},\"\n",
    "              \"avg_f1 (macro): {}, avg_f1 (weighted): {} \".format(round(acc_train, 3),\n",
    "                                                                  round(prec_train, 3),\n",
    "                                                                  round(recall_train, 3),\n",
    "                                                                  round(avg_f1_macro_train, 3),\n",
    "                                                                  round(avg_f1_weighted_train, 3)))\n",
    "\n",
    "        print(\"validation: acc: {}, precision: {}, recall: {},\"\n",
    "              \" avg_f1 (macro): {}, avg_f1 (weighted): {}\".format(round(acc_val, 3),\n",
    "                                                                  round(prec_val, 3),\n",
    "                                                                  round(recall_val, 3),\n",
    "                                                                  round(avg_f1_macro_val, 3),\n",
    "                                                                  round(avg_f1_weighted_val, 3)))\n",
    "        avg_f1_macro_train_vec.append(avg_f1_macro_train)\n",
    "        avg_f1_weighted_train_vec.append(avg_f1_weighted_train)\n",
    "\n",
    "        avg_f1_macro_val_vec.append(avg_f1_macro_val)\n",
    "        avg_f1_weighted_val_vec.append(avg_f1_weighted_val)\n",
    "\n",
    "        y_prob_train_vec.append(y_prob_train)\n",
    "        y_prob_val_vec.append(y_prob_val)\n",
    "\n",
    "    # After testing all K values , we plot all the results & which one gave the best score\n",
    "    plt.figure()\n",
    "    plt.suptitle(my_classifier_k.classifier.__class__.__name__)\n",
    "\n",
    "    plt.subplot(2, 1, 1)\n",
    "    plt.plot(Ks, avg_f1_macro_train_vec, \".-\", label=\"train\")\n",
    "    plt.plot(Ks, avg_f1_macro_val_vec, \".-\", label=\"val\")\n",
    "    argmax_val_ind_macro = np.argmax(avg_f1_macro_val_vec)\n",
    "    # saving best K + best f1 using that K\n",
    "    best_k_macro = Ks[argmax_val_ind_macro]\n",
    "    best_f1_macro = avg_f1_macro_val_vec[argmax_val_ind_macro]\n",
    "\n",
    "    # Adding to the plot the best K value\n",
    "    plt.plot([best_k_macro], [best_f1_macro], marker=\"*\", label=\"optimal\")\n",
    "    plt.text(best_k_macro, best_f1_macro,\n",
    "             s=\"({}, {})\".format(best_k_macro, round(best_f1_macro, 4)))\n",
    "    plt.legend()\n",
    "    plt.ylabel(\"avg f1 macro\")\n",
    "    plt.ylim((-0.05, 1.05))\n",
    "\n",
    "    # Now doing the same thing for average=\"weighted\"\n",
    "    plt.subplot(2, 1, 2)\n",
    "    plt.plot(Ks, avg_f1_weighted_train_vec, \".-\", label=\"train\")\n",
    "    plt.plot(Ks, avg_f1_weighted_val_vec, \".-\", label=\"val\")\n",
    "    argmax_val_ind_weighted = np.argmax(avg_f1_weighted_val_vec)\n",
    "    best_k_weighted = Ks[argmax_val_ind_weighted]\n",
    "    best_f1_weighted = avg_f1_weighted_val_vec[argmax_val_ind_weighted]\n",
    "    plt.plot([best_k_weighted], [best_f1_weighted], marker=\"*\", label=\"optimal\")\n",
    "    plt.text(best_k_weighted, best_f1_weighted,\n",
    "             s=\"({}, {})\".format(best_k_weighted, round(best_f1_weighted, 4)))\n",
    "    plt.legend()\n",
    "    plt.xlabel(\"k (dim reduces to)\")\n",
    "    plt.ylabel(\"avg f1 weighted\")\n",
    "    plt.ylim((-0.05, 1.05))\n",
    "    plt.show()\n",
    "\n",
    "    return best_k_weighted, best_f1_macro"
   ]
  },
  {
   "cell_type": "code",
   "execution_count": 11,
   "metadata": {},
   "outputs": [
    {
     "name": "stdout",
     "output_type": "stream",
     "text": [
      "k=10\n",
      "train: acc: 0.742, precision: 0.424, recall: 0.207,avg_f1 (macro): 0.56, avg_f1 (weighted): 0.707 \n",
      "validation: acc: 0.742, precision: 0.3, recall: 0.053, avg_f1 (macro): 0.474, avg_f1 (weighted): 0.682\n",
      "k=50\n",
      "train: acc: 0.76, precision: 0.5, recall: 0.347,avg_f1 (macro): 0.63, avg_f1 (weighted): 0.744 \n",
      "validation: acc: 0.76, precision: 0.476, recall: 0.175, avg_f1 (macro): 0.559, avg_f1 (weighted): 0.723\n",
      "k=100\n",
      "train: acc: 0.821, precision: 0.667, recall: 0.512,avg_f1 (macro): 0.733, avg_f1 (weighted): 0.813 \n",
      "validation: acc: 0.821, precision: 0.326, recall: 0.754, avg_f1 (macro): 0.561, avg_f1 (weighted): 0.618\n",
      "k=150\n",
      "train: acc: 0.857, precision: 0.738, recall: 0.628,avg_f1 (macro): 0.793, avg_f1 (weighted): 0.853 \n",
      "validation: acc: 0.857, precision: 0.261, recall: 0.93, avg_f1 (macro): 0.38, avg_f1 (weighted): 0.365\n",
      "k=200\n",
      "train: acc: 0.903, precision: 0.816, recall: 0.769,avg_f1 (macro): 0.864, avg_f1 (weighted): 0.902 \n",
      "validation: acc: 0.903, precision: 0.229, recall: 0.965, avg_f1 (macro): 0.22, avg_f1 (weighted): 0.138\n",
      "k=300\n",
      "train: acc: 0.915, precision: 0.815, recall: 0.835,avg_f1 (macro): 0.884, avg_f1 (weighted): 0.915 \n",
      "validation: acc: 0.915, precision: 0.229, recall: 0.982, avg_f1 (macro): 0.201, avg_f1 (weighted): 0.109\n",
      "k=400\n",
      "train: acc: 0.937, precision: 0.85, recall: 0.893,avg_f1 (macro): 0.914, avg_f1 (weighted): 0.937 \n",
      "validation: acc: 0.937, precision: 0.228, recall: 0.982, avg_f1 (macro): 0.195, avg_f1 (weighted): 0.1\n"
     ]
    },
    {
     "data": {
      "image/png": "[encoded data removed]",
      "text/plain": [
       "<Figure size 432x288 with 2 Axes>"
      ]
     },
     "metadata": {
      "needs_background": "light"
     },
     "output_type": "display_data"
    },
    {
     "name": "stdout",
     "output_type": "stream",
     "text": [
      "k=10\n",
      "train: acc: 0.742, precision: 0.424, recall: 0.207,avg_f1 (macro): 0.56, avg_f1 (weighted): 0.707 \n",
      "validation: acc: 0.742, precision: 0.2, recall: 0.018, avg_f1 (macro): 0.447, avg_f1 (weighted): 0.672\n",
      "k=15\n",
      "train: acc: 0.73, precision: 0.373, recall: 0.182,avg_f1 (macro): 0.54, avg_f1 (weighted): 0.694 \n",
      "validation: acc: 0.73, precision: 0.4, recall: 0.035, avg_f1 (macro): 0.466, avg_f1 (weighted): 0.683\n",
      "k=20\n",
      "train: acc: 0.734, precision: 0.397, recall: 0.207,avg_f1 (macro): 0.555, avg_f1 (weighted): 0.702 \n",
      "validation: acc: 0.734, precision: 0.5, recall: 0.053, avg_f1 (macro): 0.482, avg_f1 (weighted): 0.692\n",
      "k=25\n",
      "train: acc: 0.756, precision: 0.483, recall: 0.231,avg_f1 (macro): 0.582, avg_f1 (weighted): 0.722 \n",
      "validation: acc: 0.756, precision: 0.4, recall: 0.035, avg_f1 (macro): 0.466, avg_f1 (weighted): 0.683\n",
      "k=30\n",
      "train: acc: 0.752, precision: 0.47, recall: 0.256,avg_f1 (macro): 0.59, avg_f1 (weighted): 0.724 \n",
      "validation: acc: 0.752, precision: 0.4, recall: 0.035, avg_f1 (macro): 0.466, avg_f1 (weighted): 0.683\n",
      "k=35\n",
      "train: acc: 0.76, precision: 0.5, recall: 0.314,avg_f1 (macro): 0.618, avg_f1 (weighted): 0.739 \n",
      "validation: acc: 0.76, precision: 0.2, recall: 0.018, avg_f1 (macro): 0.447, avg_f1 (weighted): 0.672\n",
      "k=40\n",
      "train: acc: 0.79, precision: 0.603, recall: 0.364,avg_f1 (macro): 0.662, avg_f1 (weighted): 0.77 \n",
      "validation: acc: 0.79, precision: 0.333, recall: 0.018, avg_f1 (macro): 0.45, avg_f1 (weighted): 0.677\n",
      "k=45\n",
      "train: acc: 0.768, precision: 0.53, recall: 0.289,avg_f1 (macro): 0.616, avg_f1 (weighted): 0.741 \n",
      "validation: acc: 0.768, precision: 0.5, recall: 0.053, avg_f1 (macro): 0.482, avg_f1 (weighted): 0.692\n",
      "k=50\n",
      "train: acc: 0.788, precision: 0.585, recall: 0.397,avg_f1 (macro): 0.67, avg_f1 (weighted): 0.772 \n",
      "validation: acc: 0.788, precision: 0.5, recall: 0.14, avg_f1 (macro): 0.543, avg_f1 (weighted): 0.718\n",
      "k=55\n",
      "train: acc: 0.784, precision: 0.583, recall: 0.347,avg_f1 (macro): 0.651, avg_f1 (weighted): 0.763 \n",
      "validation: acc: 0.784, precision: 0.52, recall: 0.228, avg_f1 (macro): 0.591, avg_f1 (weighted): 0.74\n",
      "k=60\n",
      "train: acc: 0.784, precision: 0.573, recall: 0.388,avg_f1 (macro): 0.664, avg_f1 (weighted): 0.768 \n",
      "validation: acc: 0.784, precision: 0.462, recall: 0.105, avg_f1 (macro): 0.518, avg_f1 (weighted): 0.706\n",
      "k=65\n",
      "train: acc: 0.786, precision: 0.578, recall: 0.397,avg_f1 (macro): 0.668, avg_f1 (weighted): 0.771 \n",
      "validation: acc: 0.786, precision: 0.452, recall: 0.333, avg_f1 (macro): 0.615, avg_f1 (weighted): 0.741\n",
      "k=70\n",
      "train: acc: 0.817, precision: 0.656, recall: 0.504,avg_f1 (macro): 0.727, avg_f1 (weighted): 0.809 \n",
      "validation: acc: 0.817, precision: 0.5, recall: 0.228, avg_f1 (macro): 0.588, avg_f1 (weighted): 0.737\n",
      "k=75\n",
      "train: acc: 0.794, precision: 0.602, recall: 0.413,avg_f1 (macro): 0.68, avg_f1 (weighted): 0.779 \n",
      "validation: acc: 0.794, precision: 0.4, recall: 0.386, avg_f1 (macro): 0.608, avg_f1 (weighted): 0.725\n",
      "k=80\n",
      "train: acc: 0.812, precision: 0.655, recall: 0.455,avg_f1 (macro): 0.709, avg_f1 (weighted): 0.799 \n",
      "validation: acc: 0.812, precision: 0.33, recall: 0.667, avg_f1 (macro): 0.574, avg_f1 (weighted): 0.645\n",
      "k=85\n",
      "train: acc: 0.804, precision: 0.62, recall: 0.471,avg_f1 (macro): 0.705, avg_f1 (weighted): 0.794 \n",
      "validation: acc: 0.804, precision: 0.336, recall: 0.702, avg_f1 (macro): 0.578, avg_f1 (weighted): 0.645\n",
      "k=90\n",
      "train: acc: 0.815, precision: 0.643, recall: 0.521,avg_f1 (macro): 0.729, avg_f1 (weighted): 0.808 \n",
      "validation: acc: 0.815, precision: 0.347, recall: 0.614, avg_f1 (macro): 0.592, avg_f1 (weighted): 0.673\n",
      "k=95\n",
      "train: acc: 0.825, precision: 0.677, recall: 0.521,avg_f1 (macro): 0.739, avg_f1 (weighted): 0.817 \n",
      "validation: acc: 0.825, precision: 0.364, recall: 0.754, avg_f1 (macro): 0.608, avg_f1 (weighted): 0.671\n",
      "k=100\n",
      "train: acc: 0.831, precision: 0.684, recall: 0.554,avg_f1 (macro): 0.752, avg_f1 (weighted): 0.825 \n",
      "validation: acc: 0.831, precision: 0.292, recall: 0.877, avg_f1 (macro): 0.482, avg_f1 (weighted): 0.506\n"
     ]
    },
    {
     "data": {
      "image/png": "[encoded data removed]",
      "text/plain": [
       "<Figure size 432x288 with 2 Axes>"
      ]
     },
     "metadata": {
      "needs_background": "light"
     },
     "output_type": "display_data"
    },
    {
     "name": "stdout",
     "output_type": "stream",
     "text": [
      "\n",
      "\n",
      "\n",
      "\n",
      "#############################################################################\n"
     ]
    }
   ],
   "source": [
    "Ks_gross_search = [10, 50, 100, 150, 200, 300, 400]\n",
    "best_k_weighted, best_k_macro = find_best_k(Ks_gross_search)\n",
    "best_k = best_k_weighted  # think it's preferred measurement in this case\n",
    "before = Ks_gross_search[Ks_gross_search.index(best_k) - 1]\n",
    "after = Ks_gross_search[Ks_gross_search.index(best_k) + 1]\n",
    "step = 5\n",
    "\n",
    "# in fine search we re-run the code with the index before best k , to the index after best k , with steps of 5\n",
    "# for example if best k = 50 (pos[1]) , then : (pos[0]->pos[2]) ---> [10,15,20,25....95,100]\n",
    "\n",
    "Ks_fine_search = list(range(before, after + 1, step))\n",
    "best_k = find_best_k(Ks_fine_search)\n",
    "\n",
    "print(\"\\n\\n\\n\\n#############################################################################\")\n",
    "\n"
   ]
  },
  {
   "cell_type": "code",
   "execution_count": 12,
   "metadata": {},
   "outputs": [
    {
     "name": "stdout",
     "output_type": "stream",
     "text": [
      "The best value for K was : 65 \n",
      "\n",
      "                                              y_train  y_pred\n",
      "0   כל קיץ אני והמשפחה נוסעים לארצות הברית לוס אנג...       0\n",
      "1   הגעתי לשירות המדינה אחרי שנתיים כפעיל בתנועת \"...       0\n",
      "2   אחת האהבות הגדולות שלי אלו הכלבים שלי ושל אישת...       0\n",
      "3   רגע הגיוס לצבא היה הרגע הכי משמעותי עבורי, אני...       0\n",
      "4   אני הגעתי לברזיל ישר מקולומביה וגם אני עשיתי ע...       0\n",
      "5   בפעם האחרונה שהייתי מחוץ לארץ ישראל הייתי באפר...       0\n",
      "6   בשנת 2018 קיבלתי החלטה שאני מתחיל ללמוד לתואר ...       0\n",
      "7   בנובמבר האחרון הייתי עם חברים בטיול ים אל ים, ...       0\n",
      "8   לפני מספר חודשים, ביום שמש בהיר, קמתי בבוקר למ...       0\n",
      "9   אני לא בן אדם שנוטה לשתף בחייו האישיים, אבל או...       0\n",
      "10  לפני כמה זמן בדרך הביתה שמעתי איך כלבים נובחים...       0\n",
      "11  חיכיתי לסוף שנת הלימודים הרבה מאוד זמן , כדי ל...       1\n",
      "12  השנה, שנת הקורונה הייתה בשבילי שנה עם הרבה זמן...       0\n",
      "13  החוויה שלי מתחילה במכון הטכנולוגי חולון, אשר ש...       0\n",
      "14  לפני פחות משנה יחסית בתחילת התפשטות הקורונה שע...       1\n",
      "15  לפני כשנה מסרתי את אחד הדברים היקרים שהיו לי ב...       0\n",
      "16  לפני כמעט שנה, מעט אחרי התפרצות הקורונה נסענו ...       0\n",
      "17  בסוף הצבא החלטנו אני ועוד כמה חברים לעשות טיול...       0\n",
      "18  החוויה הראשונה שאספר עליה היא שטסתי במשלחת גדו...       0\n",
      "19  זה היה יום רגיל כמו בכל יום בשבוע, קמתי ב7 גמו...       0\n",
      "                                               y_train  y_pred\n",
      "303  היי אני הולך לשתף אתכם בחוויה שלי בקניית הדירה...       1\n",
      "304  בשנת 2020 פגעה הקורונה בעולם וכך גם בחיי חברה ...       1\n",
      "305  הייתי בערך חודש לפני תחרות פאוור-ליפטינג שנרשמ...       0\n",
      "306  הרומן שלי עם משרד החינוך התחיל בתמונה שרצה בוו...       0\n",
      "307  במהלך יום חתונתי ברגע המפגש הראשון בנינו, ירדת...       0\n",
      "308  ברצוני לספר על חוויה שחוויתי במהלך טיול בארץ ע...       0\n",
      "309  הכל התחיל אי שם בגיל ההתבגרות, היתה לי חברה מו...       0\n",
      "310  כשהייתי בכיתה י' היינו צריכים לבחור מגמות, מכי...       0\n",
      "311  מי שרוצה לנפוש כמו מלך שייסע לאיי סיישל. אחד ה...       0\n",
      "312  לפני שנה החלטתי שאני רוצה להיות טייס, התחלתי ל...       0\n",
      "313  שלום, לפני כמה חודשים אני ועוד שני חברים מהילד...       0\n",
      "314  השנה לא הייתה לנו חופשה אמיתית, חווינו סגרים, ...       0\n",
      "315  לפני כמה חודשים, טסתי לאוקראינה ובאותו ביקור ה...       0\n",
      "316  בנסיעה האחרונה שלי לחול במהלך הקורונה החלטתי ש...       0\n",
      "317  לפני כמה שנים החלטתי ללכת לקורס גלישה ביחד עם ...       0\n",
      "318  בשנה האחרונה הרגשתי די תקוע בעבודה, השגרה הפכה...       0\n",
      "319  אני ואילן חברים טובים מזה 20 שנה תמיד חלמנו לפ...       0\n",
      "320  מידי יום שישי אני נוהג לנסוע בתחבורה ציבורית ס...       0\n",
      "321  לפני מספר חודשים, בשיא התחלואה של הגל השני, עמ...       0\n",
      "322  היום בו דיווחתי על גניבה של האוטו שלי. בוקר אח...       0\n"
     ]
    }
   ],
   "source": [
    "print(\"The best value for K was :\", best_k[0], \"\\n\")\n",
    "my_classifier_k = MyClassifier(best_k[0])\n",
    "cf = Pipeline([('vect', TfidfVectorizer(tokenizer=my_tokenizer)), ('classifier', my_classifier_k)])\n",
    "cf.fit(X_train, y_train)\n",
    "y_pred_test = cf.predict(df_test.story)\n",
    "print(pd.DataFrame({'y_train': df_test.story, 'y_pred': y_pred_test}).head(20))\n",
    "print(pd.DataFrame({'y_train': df_test.story, 'y_pred': y_pred_test}).tail(20))"
   ]
  },
  {
   "cell_type": "markdown",
   "metadata": {},
   "source": [
    "### Save output to csv (optional)\n",
    "After you're done save your output to the 'classification_results.csv' csv file.<br/>\n",
    "We assume that the dataframe with your results contain the following columns:\n",
    "* column 1 (left column): 'test_example_id'  - the same id associated to each of the test stories to be predicted.\n",
    "* column 2 (right column): 'predicted_category' - the predicted gender value for each of the associated story. \n",
    "\n",
    "Assuming your predicted values are in the `df_predicted` dataframe, you should save you're results as following:"
   ]
  },
  {
   "cell_type": "code",
   "execution_count": 13,
   "metadata": {},
   "outputs": [],
   "source": [
    "# df_predicted.to_csv('classification_results.csv',index=False)"
   ]
  },
  {
   "cell_type": "code",
   "execution_count": null,
   "metadata": {},
   "outputs": [],
   "source": []
  }
 ],
 "metadata": {
  "celltoolbar": "Create Assignment",
  "kernelspec": {
   "display_name": "Python 3 (ipykernel)",
   "language": "python",
   "name": "python3"
  },
  "language_info": {
   "codemirror_mode": {
    "name": "ipython",
    "version": 3
   },
   "file_extension": ".py",
   "mimetype": "text/x-python",
   "name": "python",
   "nbconvert_exporter": "python",
   "pygments_lexer": "ipython3",
   "version": "3.8.12"
  }
 },
 "nbformat": 4,
 "nbformat_minor": 4
}
